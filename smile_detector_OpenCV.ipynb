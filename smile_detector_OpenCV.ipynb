{
  "nbformat": 4,
  "nbformat_minor": 0,
  "metadata": {
    "colab": {
      "name": "smile detector OpenCV.ipynb",
      "provenance": [],
      "collapsed_sections": [],
      "mount_file_id": "1gHVTrPrz05pPFXmMgXQG5uy0TKkerK_0",
      "authorship_tag": "ABX9TyNeJZmU3LWAIcOet0klqP+l",
      "include_colab_link": true
    },
    "kernelspec": {
      "name": "python3",
      "display_name": "Python 3"
    }
  },
  "cells": [
    {
      "cell_type": "markdown",
      "metadata": {
        "id": "view-in-github",
        "colab_type": "text"
      },
      "source": [
        "<a href=\"https://colab.research.google.com/github/smita0608/My_Projects/blob/master/smile_detector_OpenCV.ipynb\" target=\"_parent\"><img src=\"https://colab.research.google.com/assets/colab-badge.svg\" alt=\"Open In Colab\"/></a>"
      ]
    },
    {
      "cell_type": "code",
      "metadata": {
        "id": "6ddGtf2YP8WN"
      },
      "source": [
        "import cv2"
      ],
      "execution_count": null,
      "outputs": []
    },
    {
      "cell_type": "code",
      "metadata": {
        "id": "-ww0ITWwQ3IP"
      },
      "source": [
        "face_cascade = cv2.CascadeClassifier('/content/drive/My Drive/haarcascade_frontalface_default.xml')"
      ],
      "execution_count": null,
      "outputs": []
    },
    {
      "cell_type": "code",
      "metadata": {
        "id": "S4ejD3xJSF1X"
      },
      "source": [
        "eye_cascade = cv2.CascadeClassifier('/content/drive/My Drive/haarcascade_eye.xml')"
      ],
      "execution_count": null,
      "outputs": []
    },
    {
      "cell_type": "code",
      "metadata": {
        "id": "BJ-SvsU0SJAd"
      },
      "source": [
        "smile_cascade = cv2.CascadeClassifier('/content/drive/My Drive/haarcascade_smile.xml')"
      ],
      "execution_count": null,
      "outputs": []
    },
    {
      "cell_type": "code",
      "metadata": {
        "id": "YUhGBrvYSVxA"
      },
      "source": [
        "def detct(gray, frame):\n",
        "  faces = face_cascade.detectMultiScale(gray, 1.3, 5)\n",
        "  for (x, y, w, h) in faces:\n",
        "    cv2.rectangle(frame, (x, y), (x+w, y+h), (255, 0, 0), 2)\n",
        "    roi_gray = gray[y:y+h, x:x+w]\n",
        "    roi_color = frame[y:y+h, x:x+w]\n",
        "    eye = eye_cascade.detectMultiScale(roi_gray, 1.1, 22)\n",
        "    for (sx, sy, sw, sh) in smile:\n",
        "      cv2.rectangle(roi_color, (sx, sy), (sx+sw, sy+sh), (0, 0, 255), 2)\n",
        "    smile = smile_cascade.detectMultiScale(roi_gray, 1.7, 22)\n",
        "    for (ex, ey, ew, eh) in eye:\n",
        "      cv2.rectangle(eye, (ex, ey), (ex+ew, ey+eh), (0, 255, 0), 2)\n",
        "  return frame"
      ],
      "execution_count": null,
      "outputs": []
    },
    {
      "cell_type": "code",
      "metadata": {
        "id": "GKlcITvwTW4z"
      },
      "source": [
        "video_capture= cv2.VideoCapture(0)\n",
        "while True:\n",
        "ret, frame = video_capture.read()\n",
        "  gray = cv2.cvtColor(frame, cv2.COLOR_BGR2GRAY)\n",
        "  canvas = detect(gray, frame)\n",
        "  cv2.imshow('Video', canvas)\n",
        "  if cv2.waitKey(1) & 0xFF == ord('q'):\n",
        "    break\n",
        "video_capture.release()\n",
        "cv2.destroyAllWindows()"
      ],
      "execution_count": null,
      "outputs": []
    }
  ]
}