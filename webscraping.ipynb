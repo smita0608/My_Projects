{
  "nbformat": 4,
  "nbformat_minor": 0,
  "metadata": {
    "colab": {
      "name": "webscraping.ipynb",
      "provenance": [],
      "collapsed_sections": [],
      "authorship_tag": "ABX9TyNwtrvZsKgnQxVSfqj1/cT7",
      "include_colab_link": true
    },
    "kernelspec": {
      "name": "python3",
      "display_name": "Python 3"
    }
  },
  "cells": [
    {
      "cell_type": "markdown",
      "metadata": {
        "id": "view-in-github",
        "colab_type": "text"
      },
      "source": [
        "<a href=\"https://colab.research.google.com/github/smita0608/My_Projects/blob/master/webscraping.ipynb\" target=\"_parent\"><img src=\"https://colab.research.google.com/assets/colab-badge.svg\" alt=\"Open In Colab\"/></a>"
      ]
    },
    {
      "cell_type": "code",
      "metadata": {
        "id": "Nu0oS8h4J08F"
      },
      "source": [
        "import requests"
      ],
      "execution_count": null,
      "outputs": []
    },
    {
      "cell_type": "code",
      "metadata": {
        "id": "4kANEfhlKH3u"
      },
      "source": [
        "import bs4"
      ],
      "execution_count": null,
      "outputs": []
    },
    {
      "cell_type": "code",
      "metadata": {
        "id": "bBzcRG9hNYjM"
      },
      "source": [
        "result = requests.get(\"http://www.example.com\")"
      ],
      "execution_count": null,
      "outputs": []
    },
    {
      "cell_type": "code",
      "metadata": {
        "id": "LXHg8y3wNtrh",
        "outputId": "8ee7cf0d-5115-4001-9eed-fc3f553a6588",
        "colab": {
          "base_uri": "https://localhost:8080/",
          "height": 34
        }
      },
      "source": [
        "type(result)"
      ],
      "execution_count": null,
      "outputs": [
        {
          "output_type": "execute_result",
          "data": {
            "text/plain": [
              "requests.models.Response"
            ]
          },
          "metadata": {
            "tags": []
          },
          "execution_count": 9
        }
      ]
    },
    {
      "cell_type": "code",
      "metadata": {
        "id": "oug9-nANN1PP",
        "outputId": "95df344b-6569-4791-e3e0-44336d87b7c8",
        "colab": {
          "base_uri": "https://localhost:8080/",
          "height": 137
        }
      },
      "source": [
        "result.text"
      ],
      "execution_count": null,
      "outputs": [
        {
          "output_type": "execute_result",
          "data": {
            "application/vnd.google.colaboratory.intrinsic+json": {
              "type": "string"
            },
            "text/plain": [
              "'<!doctype html>\\n<html>\\n<head>\\n    <title>Example Domain</title>\\n\\n    <meta charset=\"utf-8\" />\\n    <meta http-equiv=\"Content-type\" content=\"text/html; charset=utf-8\" />\\n    <meta name=\"viewport\" content=\"width=device-width, initial-scale=1\" />\\n    <style type=\"text/css\">\\n    body {\\n        background-color: #f0f0f2;\\n        margin: 0;\\n        padding: 0;\\n        font-family: -apple-system, system-ui, BlinkMacSystemFont, \"Segoe UI\", \"Open Sans\", \"Helvetica Neue\", Helvetica, Arial, sans-serif;\\n        \\n    }\\n    div {\\n        width: 600px;\\n        margin: 5em auto;\\n        padding: 2em;\\n        background-color: #fdfdff;\\n        border-radius: 0.5em;\\n        box-shadow: 2px 3px 7px 2px rgba(0,0,0,0.02);\\n    }\\n    a:link, a:visited {\\n        color: #38488f;\\n        text-decoration: none;\\n    }\\n    @media (max-width: 700px) {\\n        div {\\n            margin: 0 auto;\\n            width: auto;\\n        }\\n    }\\n    </style>    \\n</head>\\n\\n<body>\\n<div>\\n    <h1>Example Domain</h1>\\n    <p>This domain is for use in illustrative examples in documents. You may use this\\n    domain in literature without prior coordination or asking for permission.</p>\\n    <p><a href=\"https://www.iana.org/domains/example\">More information...</a></p>\\n</div>\\n</body>\\n</html>\\n'"
            ]
          },
          "metadata": {
            "tags": []
          },
          "execution_count": 10
        }
      ]
    },
    {
      "cell_type": "code",
      "metadata": {
        "id": "ImLsYpjoOW1S"
      },
      "source": [
        "soup = bs4.BeautifulSoup(result.text, \"lxml\")"
      ],
      "execution_count": null,
      "outputs": []
    },
    {
      "cell_type": "code",
      "metadata": {
        "id": "w-Cj69XtOh9r",
        "outputId": "5d8e0a72-9671-4733-a346-7087020768a5",
        "colab": {
          "base_uri": "https://localhost:8080/",
          "height": 765
        }
      },
      "source": [
        "soup"
      ],
      "execution_count": null,
      "outputs": [
        {
          "output_type": "execute_result",
          "data": {
            "text/plain": [
              "<!DOCTYPE html>\n",
              "<html>\n",
              "<head>\n",
              "<title>Example Domain</title>\n",
              "<meta charset=\"utf-8\"/>\n",
              "<meta content=\"text/html; charset=utf-8\" http-equiv=\"Content-type\"/>\n",
              "<meta content=\"width=device-width, initial-scale=1\" name=\"viewport\"/>\n",
              "<style type=\"text/css\">\n",
              "    body {\n",
              "        background-color: #f0f0f2;\n",
              "        margin: 0;\n",
              "        padding: 0;\n",
              "        font-family: -apple-system, system-ui, BlinkMacSystemFont, \"Segoe UI\", \"Open Sans\", \"Helvetica Neue\", Helvetica, Arial, sans-serif;\n",
              "        \n",
              "    }\n",
              "    div {\n",
              "        width: 600px;\n",
              "        margin: 5em auto;\n",
              "        padding: 2em;\n",
              "        background-color: #fdfdff;\n",
              "        border-radius: 0.5em;\n",
              "        box-shadow: 2px 3px 7px 2px rgba(0,0,0,0.02);\n",
              "    }\n",
              "    a:link, a:visited {\n",
              "        color: #38488f;\n",
              "        text-decoration: none;\n",
              "    }\n",
              "    @media (max-width: 700px) {\n",
              "        div {\n",
              "            margin: 0 auto;\n",
              "            width: auto;\n",
              "        }\n",
              "    }\n",
              "    </style>\n",
              "</head>\n",
              "<body>\n",
              "<div>\n",
              "<h1>Example Domain</h1>\n",
              "<p>This domain is for use in illustrative examples in documents. You may use this\n",
              "    domain in literature without prior coordination or asking for permission.</p>\n",
              "<p><a href=\"https://www.iana.org/domains/example\">More information...</a></p>\n",
              "</div>\n",
              "</body>\n",
              "</html>"
            ]
          },
          "metadata": {
            "tags": []
          },
          "execution_count": 12
        }
      ]
    },
    {
      "cell_type": "code",
      "metadata": {
        "id": "1Zgp8C0DOriV",
        "outputId": "7f7c0832-8aae-4b00-b200-588efe953d76",
        "colab": {
          "base_uri": "https://localhost:8080/",
          "height": 35
        }
      },
      "source": [
        "soup.select(\"title\")[0].getText()"
      ],
      "execution_count": null,
      "outputs": [
        {
          "output_type": "execute_result",
          "data": {
            "application/vnd.google.colaboratory.intrinsic+json": {
              "type": "string"
            },
            "text/plain": [
              "'Example Domain'"
            ]
          },
          "metadata": {
            "tags": []
          },
          "execution_count": 13
        }
      ]
    },
    {
      "cell_type": "code",
      "metadata": {
        "id": "CdM8MliHPzv0"
      },
      "source": [
        "site_para = soup.select(\"p\")"
      ],
      "execution_count": null,
      "outputs": []
    },
    {
      "cell_type": "code",
      "metadata": {
        "id": "8gpTqBvPPpBX",
        "outputId": "7e287414-166b-4f3a-a748-306df582fe4b",
        "colab": {
          "base_uri": "https://localhost:8080/",
          "height": 35
        }
      },
      "source": [
        "site_para[0].getText()"
      ],
      "execution_count": null,
      "outputs": [
        {
          "output_type": "execute_result",
          "data": {
            "application/vnd.google.colaboratory.intrinsic+json": {
              "type": "string"
            },
            "text/plain": [
              "'This domain is for use in illustrative examples in documents. You may use this\\n    domain in literature without prior coordination or asking for permission.'"
            ]
          },
          "metadata": {
            "tags": []
          },
          "execution_count": 15
        }
      ]
    },
    {
      "cell_type": "code",
      "metadata": {
        "id": "KpSb17pnR1s_"
      },
      "source": [
        "res = requests.get('https://en.wikipedia.org/wiki/Taylor_Swift')"
      ],
      "execution_count": null,
      "outputs": []
    },
    {
      "cell_type": "code",
      "metadata": {
        "id": "XixCrynnSGQX"
      },
      "source": [
        "soup = bs4.BeautifulSoup(res.text, \"lxml\")"
      ],
      "execution_count": null,
      "outputs": []
    },
    {
      "cell_type": "code",
      "metadata": {
        "id": "43XH6ophSVd-"
      },
      "source": [
        "first_item = soup.select('.toctext')[0]"
      ],
      "execution_count": null,
      "outputs": []
    },
    {
      "cell_type": "code",
      "metadata": {
        "id": "25dRItwvSaKM",
        "outputId": "29d4f216-31f1-4915-d40c-a36c95ac844c",
        "colab": {
          "base_uri": "https://localhost:8080/",
          "height": 35
        }
      },
      "source": [
        "first_item.text"
      ],
      "execution_count": null,
      "outputs": [
        {
          "output_type": "execute_result",
          "data": {
            "application/vnd.google.colaboratory.intrinsic+json": {
              "type": "string"
            },
            "text/plain": [
              "'Life and career'"
            ]
          },
          "metadata": {
            "tags": []
          },
          "execution_count": 19
        }
      ]
    },
    {
      "cell_type": "code",
      "metadata": {
        "id": "FS9IUR8iTFkS",
        "outputId": "0df8a649-f2cc-49e4-e95b-beb3940f436e",
        "colab": {
          "base_uri": "https://localhost:8080/",
          "height": 476
        }
      },
      "source": [
        "for item in soup.select('.toctext'):\n",
        "  print (item.text)\n"
      ],
      "execution_count": null,
      "outputs": [
        {
          "output_type": "stream",
          "text": [
            "Life and career\n",
            "1989–2003: Early life\n",
            "2004–2008: Career beginnings and Taylor Swift\n",
            "2008–2010: Fearless and acting\n",
            "2010–2014: Speak Now and Red\n",
            "2014–2017: 1989\n",
            "2017–2019: Reputation\n",
            "2019–present: Lover and Folklore\n",
            "Artistry\n",
            "Influences\n",
            "Musical style\n",
            "Songwriting\n",
            "Music videos\n",
            "Public image\n",
            "Impact\n",
            "Awards and achievements\n",
            "Other ventures\n",
            "Philanthropy\n",
            "Politics and activism\n",
            "Product endorsements\n",
            "Discography\n",
            "Filmography\n",
            "Tours\n",
            "See also\n",
            "Footnotes\n",
            "References\n",
            "External links\n"
          ],
          "name": "stdout"
        }
      ]
    },
    {
      "cell_type": "code",
      "metadata": {
        "id": "MnUEh5wsVKW-",
        "outputId": "c3b1d7cb-424d-42e6-82d6-3f080f1d3b0e",
        "colab": {
          "base_uri": "https://localhost:8080/",
          "height": 54
        }
      },
      "source": [
        "soup.select('.image')[0]"
      ],
      "execution_count": null,
      "outputs": [
        {
          "output_type": "execute_result",
          "data": {
            "text/plain": [
              "<a class=\"image\" href=\"/wiki/File:191125_Taylor_Swift_at_the_2019_American_Music_Awards_(cropped).png\" title=\"Medium shot of Swift in dress with little sequins, in front of AMA backdrop\"><img alt=\"Medium shot of Swift in dress with little sequins, in front of AMA backdrop\" data-file-height=\"909\" data-file-width=\"639\" decoding=\"async\" height=\"313\" src=\"//upload.wikimedia.org/wikipedia/commons/thumb/b/b5/191125_Taylor_Swift_at_the_2019_American_Music_Awards_%28cropped%29.png/220px-191125_Taylor_Swift_at_the_2019_American_Music_Awards_%28cropped%29.png\" srcset=\"//upload.wikimedia.org/wikipedia/commons/thumb/b/b5/191125_Taylor_Swift_at_the_2019_American_Music_Awards_%28cropped%29.png/330px-191125_Taylor_Swift_at_the_2019_American_Music_Awards_%28cropped%29.png 1.5x, //upload.wikimedia.org/wikipedia/commons/thumb/b/b5/191125_Taylor_Swift_at_the_2019_American_Music_Awards_%28cropped%29.png/440px-191125_Taylor_Swift_at_the_2019_American_Music_Awards_%28cropped%29.png 2x\" width=\"220\"/></a>"
            ]
          },
          "metadata": {
            "tags": []
          },
          "execution_count": 21
        }
      ]
    },
    {
      "cell_type": "code",
      "metadata": {
        "id": "GYiCXq6pXe4i"
      },
      "source": [
        "image_link = requests.get('http://upload.wikimedia.org/wikipedia/commons/thumb/b/b5/191125_Taylor_Swift_at_the_2019_American_Music_Awards_%28cropped%29.png/220px-191125_Taylor_Swift_at_the_2019_American_Music_Awards_%28cropped%29.png')"
      ],
      "execution_count": null,
      "outputs": []
    },
    {
      "cell_type": "code",
      "metadata": {
        "id": "IGpKwTDYY80p"
      },
      "source": [
        "f = open('D:\\taylor_swift_image.png', 'wb')"
      ],
      "execution_count": null,
      "outputs": []
    },
    {
      "cell_type": "code",
      "metadata": {
        "id": "odHInLAzZSzX",
        "outputId": "f05a271d-40cd-4e12-b698-30c30e829a95",
        "colab": {
          "base_uri": "https://localhost:8080/",
          "height": 34
        }
      },
      "source": [
        "f.write(image_link.content)"
      ],
      "execution_count": null,
      "outputs": [
        {
          "output_type": "execute_result",
          "data": {
            "text/plain": [
              "115317"
            ]
          },
          "metadata": {
            "tags": []
          },
          "execution_count": 24
        }
      ]
    },
    {
      "cell_type": "code",
      "metadata": {
        "id": "VqW9ASfjZbNh"
      },
      "source": [
        "f.close()"
      ],
      "execution_count": null,
      "outputs": []
    },
    {
      "cell_type": "code",
      "metadata": {
        "id": "XoN84Zdf5XC5"
      },
      "source": [
        "base_url = 'https://books.toscrape.com/catalogue/page-{}.html'"
      ],
      "execution_count": null,
      "outputs": []
    },
    {
      "cell_type": "code",
      "metadata": {
        "id": "7aMisBsf5i9Q",
        "outputId": "7b6865a1-9763-49f6-9bc0-7ec7fbe41eb9",
        "colab": {
          "base_uri": "https://localhost:8080/",
          "height": 35
        }
      },
      "source": [
        "page_num = 12\n",
        "base_url.format(page_num)"
      ],
      "execution_count": null,
      "outputs": [
        {
          "output_type": "execute_result",
          "data": {
            "application/vnd.google.colaboratory.intrinsic+json": {
              "type": "string"
            },
            "text/plain": [
              "'https://books.toscrape.com/catalogue/page-12.html'"
            ]
          },
          "metadata": {
            "tags": []
          },
          "execution_count": 27
        }
      ]
    },
    {
      "cell_type": "code",
      "metadata": {
        "id": "cWzGB2vy7eMp"
      },
      "source": [
        "res = requests.get(base_url.format(1))"
      ],
      "execution_count": null,
      "outputs": []
    },
    {
      "cell_type": "code",
      "metadata": {
        "id": "FgMy7TsA7ybO"
      },
      "source": [
        "soup = bs4.BeautifulSoup(res.text, 'lxml')"
      ],
      "execution_count": null,
      "outputs": []
    },
    {
      "cell_type": "code",
      "metadata": {
        "id": "NIlE9AVKFJ2o"
      },
      "source": [
        "products = soup.select(\".product_pod\")"
      ],
      "execution_count": null,
      "outputs": []
    },
    {
      "cell_type": "code",
      "metadata": {
        "id": "kXUEINMCFTXx"
      },
      "source": [
        "example = products[0]"
      ],
      "execution_count": null,
      "outputs": []
    },
    {
      "cell_type": "code",
      "metadata": {
        "id": "gQ5mx4JZHlZX",
        "outputId": "b57488fc-d249-4eed-9b69-22c8a7ddfde5",
        "colab": {
          "base_uri": "https://localhost:8080/",
          "height": 136
        }
      },
      "source": [
        "example.select(\".star-rating.Three\")"
      ],
      "execution_count": null,
      "outputs": [
        {
          "output_type": "execute_result",
          "data": {
            "text/plain": [
              "[<p class=\"star-rating Three\">\n",
              " <i class=\"icon-star\"></i>\n",
              " <i class=\"icon-star\"></i>\n",
              " <i class=\"icon-star\"></i>\n",
              " <i class=\"icon-star\"></i>\n",
              " <i class=\"icon-star\"></i>\n",
              " </p>]"
            ]
          },
          "metadata": {
            "tags": []
          },
          "execution_count": 35
        }
      ]
    },
    {
      "cell_type": "code",
      "metadata": {
        "id": "x2doSOBZIGHk",
        "outputId": "dd5b21c1-bc35-4ce3-a2d6-cf732445a79e",
        "colab": {
          "base_uri": "https://localhost:8080/",
          "height": 35
        }
      },
      "source": [
        "example.select('a')[1]['title']"
      ],
      "execution_count": null,
      "outputs": [
        {
          "output_type": "execute_result",
          "data": {
            "application/vnd.google.colaboratory.intrinsic+json": {
              "type": "string"
            },
            "text/plain": [
              "'A Light in the Attic'"
            ]
          },
          "metadata": {
            "tags": []
          },
          "execution_count": 38
        }
      ]
    },
    {
      "cell_type": "code",
      "metadata": {
        "id": "KMfBJC-UJbEJ"
      },
      "source": [
        "two_star_titles = []\n",
        "\n",
        "for n in range(1, 51):\n",
        "  scrape_url = base_url.format(n)\n",
        "  res = requests.get(scrape_url)\n",
        "\n",
        "  soup = bs4.BeautifulSoup(res.text, 'lxml')\n",
        "  books = soup.select('.product_pod')\n",
        "\n",
        "  for book in books:\n",
        "    if len(book.select('.star-rating.Two')) != 0:\n",
        "      book_title = book.select('a')[1]['title']\n",
        "      two_star_titles.append(book_title)"
      ],
      "execution_count": null,
      "outputs": []
    },
    {
      "cell_type": "code",
      "metadata": {
        "id": "5v-SFVosLg7i",
        "outputId": "9d0f3ba5-5728-40a7-986c-33198283c60a",
        "colab": {
          "base_uri": "https://localhost:8080/",
          "height": 1000
        }
      },
      "source": [
        "two_star_titles"
      ],
      "execution_count": null,
      "outputs": [
        {
          "output_type": "execute_result",
          "data": {
            "text/plain": [
              "['Starving Hearts (Triangular Trade Trilogy, #1)',\n",
              " 'Libertarianism for Beginners',\n",
              " \"It's Only the Himalayas\",\n",
              " 'How Music Works',\n",
              " 'Maude (1883-1993):She Grew Up with the country',\n",
              " \"You can't bury them all: Poems\",\n",
              " 'Reasons to Stay Alive',\n",
              " 'Without Borders (Wanderlove #1)',\n",
              " 'Soul Reader',\n",
              " 'Security',\n",
              " 'Saga, Volume 5 (Saga (Collected Editions) #5)',\n",
              " 'Reskilling America: Learning to Labor in the Twenty-First Century',\n",
              " 'Political Suicide: Missteps, Peccadilloes, Bad Calls, Backroom Hijinx, Sordid Pasts, Rotten Breaks, and Just Plain Dumb Mistakes in the Annals of American Politics',\n",
              " 'Obsidian (Lux #1)',\n",
              " 'My Paris Kitchen: Recipes and Stories',\n",
              " 'Masks and Shadows',\n",
              " 'Lumberjanes, Vol. 2: Friendship to the Max (Lumberjanes #5-8)',\n",
              " 'Lumberjanes Vol. 3: A Terrible Plan (Lumberjanes #9-12)',\n",
              " 'Judo: Seven Steps to Black Belt (an Introductory Guide for Beginners)',\n",
              " 'I Hate Fairyland, Vol. 1: Madly Ever After (I Hate Fairyland (Compilations) #1-5)',\n",
              " 'Giant Days, Vol. 2 (Giant Days #5-8)',\n",
              " 'Everydata: The Misinformation Hidden in the Little Data You Consume Every Day',\n",
              " \"Don't Be a Jerk: And Other Practical Advice from Dogen, Japan's Greatest Zen Master\",\n",
              " 'Bossypants',\n",
              " 'Bitch Planet, Vol. 1: Extraordinary Machine (Bitch Planet (Collected Editions))',\n",
              " 'Avatar: The Last Airbender: Smoke and Shadow, Part 3 (Smoke and Shadow #3)',\n",
              " 'Tuesday Nights in 1980',\n",
              " 'The Psychopath Test: A Journey Through the Madness Industry',\n",
              " 'The Power of Now: A Guide to Spiritual Enlightenment',\n",
              " \"The Omnivore's Dilemma: A Natural History of Four Meals\",\n",
              " 'The Love and Lemons Cookbook: An Apple-to-Zucchini Celebration of Impromptu Cooking',\n",
              " 'The Girl on the Train',\n",
              " 'The Emerald Mystery',\n",
              " 'The Argonauts',\n",
              " 'Suddenly in Love (Lake Haven #1)',\n",
              " 'Soft Apocalypse',\n",
              " \"So You've Been Publicly Shamed\",\n",
              " 'Shoe Dog: A Memoir by the Creator of NIKE',\n",
              " 'Louisa: The Extraordinary Life of Mrs. Adams',\n",
              " 'Large Print Heart of the Pride',\n",
              " 'Grumbles',\n",
              " 'Chasing Heaven: What Dying Taught Me About Living',\n",
              " 'Becoming Wise: An Inquiry into the Mystery and Art of Living',\n",
              " 'Beauty Restored (Riley Family Legacy Novellas #3)',\n",
              " 'Batman: The Long Halloween (Batman)',\n",
              " \"Ayumi's Violin\",\n",
              " 'Wild Swans',\n",
              " \"What's It Like in Space?: Stories from Astronauts Who've Been There\",\n",
              " 'Until Friday Night (The Field Party #1)',\n",
              " 'Unbroken: A World War II Story of Survival, Resilience, and Redemption',\n",
              " 'Twenty Yawns',\n",
              " 'Through the Woods',\n",
              " 'This Is Where It Ends',\n",
              " 'The Year of Magical Thinking',\n",
              " 'The Last Mile (Amos Decker #2)',\n",
              " 'The Immortal Life of Henrietta Lacks',\n",
              " 'The Hidden Oracle (The Trials of Apollo #1)',\n",
              " 'The Guilty (Will Robie #4)',\n",
              " 'Red Hood/Arsenal, Vol. 1: Open for Business (Red Hood/Arsenal #1)',\n",
              " 'Once Was a Time',\n",
              " 'No Dream Is Too High: Life Lessons From a Man Who Walked on the Moon',\n",
              " 'Naruto (3-in-1 Edition), Vol. 14: Includes Vols. 40, 41 & 42 (Naruto: Omnibus #14)',\n",
              " 'More Than Music (Chasing the Dream #1)',\n",
              " 'Lowriders to the Center of the Earth (Lowriders in Space #2)',\n",
              " 'Eat Fat, Get Thin',\n",
              " 'Doctor Sleep (The Shining #2)',\n",
              " 'Crazy Love: Overwhelmed by a Relentless God',\n",
              " 'Carrie',\n",
              " 'Batman: Europa',\n",
              " 'Angels Walking (Angels Walking #1)',\n",
              " 'Adulthood Is a Myth: A \"Sarah\\'s Scribbles\" Collection',\n",
              " 'A Study in Scarlet (Sherlock Holmes #1)',\n",
              " 'A Series of Catastrophes and Miracles: A True Story of Love, Science, and Cancer',\n",
              " \"A People's History of the United States\",\n",
              " 'My Kitchen Year: 136 Recipes That Saved My Life',\n",
              " 'The Lonely City: Adventures in the Art of Being Alone',\n",
              " 'The Dinner Party',\n",
              " 'Stars Above (The Lunar Chronicles #4.5)',\n",
              " 'Love, Lies and Spies',\n",
              " 'Troublemaker: Surviving Hollywood and Scientology',\n",
              " 'The Widow',\n",
              " 'Setting the World on Fire: The Brief, Astonishing Life of St. Catherine of Siena',\n",
              " 'Mothering Sunday',\n",
              " 'Lilac Girls',\n",
              " '10% Happier: How I Tamed the Voice in My Head, Reduced Stress Without Losing My Edge, and Found Self-Help That Actually Works',\n",
              " 'Underlying Notes',\n",
              " 'The Flowers Lied',\n",
              " 'Modern Day Fables',\n",
              " \"Chernobyl 01:23:40: The Incredible True Story of the World's Worst Nuclear Disaster\",\n",
              " '23 Degrees South: A Tropical Tale of Changing Whether...',\n",
              " 'When Breath Becomes Air',\n",
              " 'Vagabonding: An Uncommon Guide to the Art of Long-Term World Travel',\n",
              " 'The Martian (The Martian #1)',\n",
              " \"Miller's Valley\",\n",
              " \"Love That Boy: What Two Presidents, Eight Road Trips, and My Son Taught Me About a Parent's Expectations\",\n",
              " 'Left Behind (Left Behind #1)',\n",
              " 'Howl and Other Poems',\n",
              " \"Heaven is for Real: A Little Boy's Astounding Story of His Trip to Heaven and Back\",\n",
              " \"Brazen: The Courage to Find the You That's Been Hiding\",\n",
              " '32 Yolks',\n",
              " 'Wildlife of New York: A Five-Borough Coloring Book',\n",
              " 'Unreasonable Hope: Finding Faith in the God Who Brings Purpose to Your Pain',\n",
              " 'The Art Book',\n",
              " 'Steal Like an Artist: 10 Things Nobody Told You About Being Creative',\n",
              " 'Raymie Nightingale',\n",
              " 'Like Never Before (Walker Family #2)',\n",
              " 'How to Be a Domestic Goddess: Baking and the Art of Comfort Cooking',\n",
              " 'Finding God in the Ruins: How God Redeems Pain',\n",
              " 'Chronicles, Vol. 1',\n",
              " 'A Summer In Europe',\n",
              " 'The Rise and Fall of the Third Reich: A History of Nazi Germany',\n",
              " 'The Makings of a Fatherless Child',\n",
              " 'The Fellowship of the Ring (The Lord of the Rings #1)',\n",
              " \"Tell the Wolves I'm Home\",\n",
              " 'In the Woods (Dublin Murder Squad #1)',\n",
              " 'Give It Back',\n",
              " 'Why Save the Bankers?: And Other Essays on Our Economic and Political Crisis',\n",
              " 'The Raven King (The Raven Cycle #4)',\n",
              " 'The Expatriates',\n",
              " 'The 5th Wave (The 5th Wave #1)',\n",
              " 'Peak: Secrets from the New Science of Expertise',\n",
              " 'Logan Kade (Fallen Crest High #5.5)',\n",
              " \"I Know Why the Caged Bird Sings (Maya Angelou's Autobiography #1)\",\n",
              " 'Drama',\n",
              " \"America's War for the Greater Middle East: A Military History\",\n",
              " 'A Game of Thrones (A Song of Ice and Fire #1)',\n",
              " \"The Pilgrim's Progress\",\n",
              " 'The Hound of the Baskervilles (Sherlock Holmes #5)',\n",
              " \"The Geography of Bliss: One Grump's Search for the Happiest Places in the World\",\n",
              " 'The Demonists (Demonist #1)',\n",
              " 'The Demon Prince of Momochi House, Vol. 4 (The Demon Prince of Momochi House #4)',\n",
              " 'Misery',\n",
              " 'Far From True (Promise Falls Trilogy #2)',\n",
              " 'Confessions of a Shopaholic (Shopaholic #1)',\n",
              " 'Vegan Vegetarian Omnivore: Dinner for Everyone at the Table',\n",
              " 'Two Boys Kissing',\n",
              " 'Twilight (Twilight #1)',\n",
              " 'Twenties Girl',\n",
              " 'The Tipping Point: How Little Things Can Make a Big Difference',\n",
              " 'The Stand',\n",
              " 'The Picture of Dorian Gray',\n",
              " 'The Name of God is Mercy',\n",
              " \"The Lover's Dictionary\",\n",
              " 'The Last Painting of Sara de Vos',\n",
              " 'The Guns of August',\n",
              " 'The Girl Who Played with Fire (Millennium Trilogy #2)',\n",
              " 'The Da Vinci Code (Robert Langdon #2)',\n",
              " 'The Cat in the Hat (Beginner Books B-1)',\n",
              " 'The Book Thief',\n",
              " 'The Autobiography of Malcolm X',\n",
              " \"Surely You're Joking, Mr. Feynman!: Adventures of a Curious Character\",\n",
              " 'Soldier (Talon #3)',\n",
              " 'Shopaholic & Baby (Shopaholic #5)',\n",
              " 'Seven Days in the Art World',\n",
              " 'Rework',\n",
              " 'Packing for Mars: The Curious Science of Life in the Void',\n",
              " 'Orange Is the New Black',\n",
              " 'One for the Money (Stephanie Plum #1)',\n",
              " 'Midnight Riot (Peter Grant/ Rivers of London - books #1)',\n",
              " 'Me Talk Pretty One Day',\n",
              " 'Manuscript Found in Accra',\n",
              " 'Lust & Wonder',\n",
              " \"Life, the Universe and Everything (Hitchhiker's Guide to the Galaxy #3)\",\n",
              " 'Life After Life',\n",
              " 'I Am Malala: The Girl Who Stood Up for Education and Was Shot by the Taliban',\n",
              " 'House of Lost Worlds: Dinosaurs, Dynasties, and the Story of Life on Earth',\n",
              " 'Horrible Bear!',\n",
              " 'Holidays on Ice',\n",
              " 'Girl in the Blue Coat',\n",
              " 'Fruits Basket, Vol. 3 (Fruits Basket #3)',\n",
              " 'Cosmos',\n",
              " 'Civilization and Its Discontents',\n",
              " \"Catastrophic Happiness: Finding Joy in Childhood's Messy Years\",\n",
              " 'Career of Evil (Cormoran Strike #3)',\n",
              " 'Born to Run: A Hidden Tribe, Superathletes, and the Greatest Race the World Has Never Seen',\n",
              " \"Best of My Love (Fool's Gold #20)\",\n",
              " 'Beowulf',\n",
              " 'Awkward',\n",
              " 'And Then There Were None',\n",
              " 'A Storm of Swords (A Song of Ice and Fire #3)',\n",
              " 'The Suffragettes (Little Black Classics, #96)',\n",
              " 'Vampire Girl (Vampire Girl #1)',\n",
              " 'Three Wishes (River of Time: California #1)',\n",
              " 'The Wicked + The Divine, Vol. 1: The Faust Act (The Wicked + The Divine)',\n",
              " 'The Little Prince',\n",
              " 'The Last Girl (The Dominion Trilogy #1)',\n",
              " 'Taking Shots (Assassins #1)',\n",
              " 'Settling the Score (The Summer Games #1)',\n",
              " 'Rhythm, Chord & Malykhin',\n",
              " 'One Second (Seven #7)',\n",
              " \"Old Records Never Die: One Man's Quest for His Vinyl and His Past\",\n",
              " 'Of Mice and Men',\n",
              " 'My Perfect Mistake (Over the Top #1)',\n",
              " 'Meditations',\n",
              " 'Frankenstein',\n",
              " 'Emma']"
            ]
          },
          "metadata": {
            "tags": []
          },
          "execution_count": 41
        }
      ]
    }
  ]
}