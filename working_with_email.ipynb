{
  "nbformat": 4,
  "nbformat_minor": 0,
  "metadata": {
    "colab": {
      "name": "working with email.ipynb",
      "provenance": [],
      "collapsed_sections": [],
      "authorship_tag": "ABX9TyOT68HBnzwPirOlVWUjcjLh",
      "include_colab_link": true
    },
    "kernelspec": {
      "name": "python3",
      "display_name": "Python 3"
    }
  },
  "cells": [
    {
      "cell_type": "markdown",
      "metadata": {
        "id": "view-in-github",
        "colab_type": "text"
      },
      "source": [
        "<a href=\"https://colab.research.google.com/github/smita0608/My_Projects/blob/master/working_with_email.ipynb\" target=\"_parent\"><img src=\"https://colab.research.google.com/assets/colab-badge.svg\" alt=\"Open In Colab\"/></a>"
      ]
    },
    {
      "cell_type": "markdown",
      "metadata": {
        "id": "-h72zbmXqdXQ"
      },
      "source": [
        "**sending mails**"
      ]
    },
    {
      "cell_type": "code",
      "metadata": {
        "id": "6pLyR3lgmU9F"
      },
      "source": [
        "import smtplib"
      ],
      "execution_count": null,
      "outputs": []
    },
    {
      "cell_type": "code",
      "metadata": {
        "id": "WN8grMWfhruU"
      },
      "source": [
        "smtp_object = smtplib.SMTP('smtp.gmail.com', 587)"
      ],
      "execution_count": null,
      "outputs": []
    },
    {
      "cell_type": "code",
      "metadata": {
        "id": "ll0ei3SgiWFk",
        "outputId": "b4f17ef8-2366-42a6-e819-b41c30a60aa9",
        "colab": {
          "base_uri": "https://localhost:8080/",
          "height": 51
        }
      },
      "source": [
        "smtp_object. ehlo()"
      ],
      "execution_count": null,
      "outputs": [
        {
          "output_type": "execute_result",
          "data": {
            "text/plain": [
              "(250,\n",
              " b'smtp.gmail.com at your service, [34.73.50.156]\\nSIZE 35882577\\n8BITMIME\\nSTARTTLS\\nENHANCEDSTATUSCODES\\nPIPELINING\\nCHUNKING\\nSMTPUTF8')"
            ]
          },
          "metadata": {
            "tags": []
          },
          "execution_count": 19
        }
      ]
    },
    {
      "cell_type": "code",
      "metadata": {
        "id": "haD6fZ49iy58",
        "outputId": "69c1d9e6-fe6b-4c99-ce3f-f9ff047a494a",
        "colab": {
          "base_uri": "https://localhost:8080/",
          "height": 34
        }
      },
      "source": [
        "smtp_object.starttls()"
      ],
      "execution_count": null,
      "outputs": [
        {
          "output_type": "execute_result",
          "data": {
            "text/plain": [
              "(220, b'2.0.0 Ready to start TLS')"
            ]
          },
          "metadata": {
            "tags": []
          },
          "execution_count": 20
        }
      ]
    },
    {
      "cell_type": "code",
      "metadata": {
        "id": "1pdnQEXDjBS-"
      },
      "source": [
        "import getpass"
      ],
      "execution_count": null,
      "outputs": []
    },
    {
      "cell_type": "code",
      "metadata": {
        "id": "-jwCUb4TlJ-K",
        "outputId": "2eff5ede-f882-40f3-9be1-e3221f0bcfb2",
        "colab": {
          "base_uri": "https://localhost:8080/",
          "height": 68
        }
      },
      "source": [
        "email = getpass.getpass('Email: ')\n",
        "password= getpass.getpass('password: ')\n",
        "smtp_object.login(email, password)"
      ],
      "execution_count": null,
      "outputs": [
        {
          "output_type": "stream",
          "text": [
            "Email: ··········\n",
            "password: ··········\n"
          ],
          "name": "stdout"
        },
        {
          "output_type": "execute_result",
          "data": {
            "text/plain": [
              "(235, b'2.7.0 Accepted')"
            ]
          },
          "metadata": {
            "tags": []
          },
          "execution_count": 22
        }
      ]
    },
    {
      "cell_type": "code",
      "metadata": {
        "id": "pyCZaJW3ohxK",
        "outputId": "6d9ccf7a-21f9-4ba1-9a20-f96975333731",
        "colab": {
          "base_uri": "https://localhost:8080/",
          "height": 68
        }
      },
      "source": [
        "from_address = email\n",
        "to_address = email\n",
        "subject = input('enter the subject line: ')\n",
        "body = input('enter the message')\n",
        "msg = 'subject: '+subject+'\\n'+'message: '+body\n",
        "smtp_object.sendmail(from_address, to_address, msg)"
      ],
      "execution_count": null,
      "outputs": [
        {
          "output_type": "stream",
          "text": [
            "enter the subject line: test msg\n",
            "enter the messagehello its a test msg\n"
          ],
          "name": "stdout"
        },
        {
          "output_type": "execute_result",
          "data": {
            "text/plain": [
              "{}"
            ]
          },
          "metadata": {
            "tags": []
          },
          "execution_count": 23
        }
      ]
    },
    {
      "cell_type": "code",
      "metadata": {
        "id": "V8HyA_fVqK7i",
        "outputId": "3f3669b6-09cd-4a35-d9d1-7d6b478e60e8",
        "colab": {
          "base_uri": "https://localhost:8080/",
          "height": 34
        }
      },
      "source": [
        "smtp_object.quit()"
      ],
      "execution_count": null,
      "outputs": [
        {
          "output_type": "execute_result",
          "data": {
            "text/plain": [
              "(221, b'2.0.0 closing connection e9sm869636uad.20 - gsmtp')"
            ]
          },
          "metadata": {
            "tags": []
          },
          "execution_count": 24
        }
      ]
    },
    {
      "cell_type": "markdown",
      "metadata": {
        "id": "puWzU4u_qwf9"
      },
      "source": [
        "**recieving mail**"
      ]
    },
    {
      "cell_type": "code",
      "metadata": {
        "id": "SYyEZ8-Nq2Xs"
      },
      "source": [
        "import imaplib"
      ],
      "execution_count": null,
      "outputs": []
    },
    {
      "cell_type": "code",
      "metadata": {
        "id": "0S4utrPItiOX"
      },
      "source": [
        "M = imaplib.IMAP4_SSL('imap.gmail.com')"
      ],
      "execution_count": null,
      "outputs": []
    },
    {
      "cell_type": "code",
      "metadata": {
        "id": "XRqATdautzDv"
      },
      "source": [
        "import getpass"
      ],
      "execution_count": null,
      "outputs": []
    },
    {
      "cell_type": "code",
      "metadata": {
        "id": "eKBPGmWut3ox",
        "outputId": "0d8a0fc2-02a1-473a-fcaa-92eba5e632f9",
        "colab": {
          "base_uri": "https://localhost:8080/",
          "height": 51
        }
      },
      "source": [
        "email = getpass.getpass('Email: ')\n",
        "password= getpass.getpass('password: ')"
      ],
      "execution_count": null,
      "outputs": [
        {
          "output_type": "stream",
          "text": [
            "Email: ··········\n",
            "password: ··········\n"
          ],
          "name": "stdout"
        }
      ]
    },
    {
      "cell_type": "code",
      "metadata": {
        "id": "QTGcbeD7uKJe",
        "outputId": "c1a59637-8224-4c91-c75f-b3cc04d78bec",
        "colab": {
          "base_uri": "https://localhost:8080/",
          "height": 34
        }
      },
      "source": [
        "M.login(email, password)"
      ],
      "execution_count": null,
      "outputs": [
        {
          "output_type": "execute_result",
          "data": {
            "text/plain": [
              "('OK', [b'greensmita21@gmail.com authenticated (Success)'])"
            ]
          },
          "metadata": {
            "tags": []
          },
          "execution_count": 30
        }
      ]
    },
    {
      "cell_type": "code",
      "metadata": {
        "id": "wugouE1zuQzL",
        "outputId": "4eb28f47-8975-4ab3-95a3-73c29127f4fd",
        "colab": {
          "base_uri": "https://localhost:8080/",
          "height": 34
        }
      },
      "source": [
        "M.select('inbox')"
      ],
      "execution_count": null,
      "outputs": [
        {
          "output_type": "execute_result",
          "data": {
            "text/plain": [
              "('OK', [b'5602'])"
            ]
          },
          "metadata": {
            "tags": []
          },
          "execution_count": 31
        }
      ]
    },
    {
      "cell_type": "code",
      "metadata": {
        "id": "9BL_ZvHIuaeY"
      },
      "source": [
        "typ, data = M.search(None, 'SUBJECT \"TEST MSG\"')"
      ],
      "execution_count": null,
      "outputs": []
    },
    {
      "cell_type": "code",
      "metadata": {
        "id": "lMYWoNCKwNje",
        "outputId": "e33d1db9-ab4a-4e4d-e4f3-73fce31304b7",
        "colab": {
          "base_uri": "https://localhost:8080/",
          "height": 34
        }
      },
      "source": [
        "data"
      ],
      "execution_count": null,
      "outputs": [
        {
          "output_type": "execute_result",
          "data": {
            "text/plain": [
              "[b'5602']"
            ]
          },
          "metadata": {
            "tags": []
          },
          "execution_count": 39
        }
      ]
    },
    {
      "cell_type": "code",
      "metadata": {
        "id": "aAWbtofWwYiP"
      },
      "source": [
        "email_id = data[0]"
      ],
      "execution_count": null,
      "outputs": []
    },
    {
      "cell_type": "code",
      "metadata": {
        "id": "8_Z0MkVVw-vh"
      },
      "source": [
        "result, email_data = M.fetch(email_id, '(rfc822)')"
      ],
      "execution_count": null,
      "outputs": []
    },
    {
      "cell_type": "code",
      "metadata": {
        "id": "-uGz8Dflxcie",
        "outputId": "1e3bdecb-12f6-4dd6-aa3a-0d7a0c3cb141",
        "colab": {
          "base_uri": "https://localhost:8080/",
          "height": 88
        }
      },
      "source": [
        "email_data"
      ],
      "execution_count": null,
      "outputs": [
        {
          "output_type": "execute_result",
          "data": {
            "text/plain": [
              "[(b'5602 (RFC822 {573}',\n",
              "  b'Bcc: greensmita21@gmail.com\\r\\nReturn-Path: <greensmita21@gmail.com>\\r\\nReceived: from [172.28.0.2] (156.50.73.34.bc.googleusercontent.com. [34.73.50.156])\\r\\n        by smtp.gmail.com with ESMTPSA id e9sm869636uad.20.2020.10.25.00.28.38\\r\\n        for <greensmita21@gmail.com>\\r\\n        (version=TLS1_3 cipher=TLS_AES_256_GCM_SHA384 bits=256/256);\\r\\n        Sun, 25 Oct 2020 00:28:39 -0700 (PDT)\\r\\nMessage-ID: <5f952927.1c69fb81.20fae.55f5@mx.google.com>\\r\\nDate: Sun, 25 Oct 2020 00:28:39 -0700 (PDT)\\r\\nFrom: greensmita21@gmail.com\\r\\nsubject: test msg\\r\\nmessage: hello its a test msg\\r\\n\\r\\n'),\n",
              " b' FLAGS (\\\\Seen))']"
            ]
          },
          "metadata": {
            "tags": []
          },
          "execution_count": 42
        }
      ]
    },
    {
      "cell_type": "code",
      "metadata": {
        "id": "xrqOzWcZxl1j"
      },
      "source": [
        "raw_email = email_data[0][1]\n",
        "raw_email_string = raw_email.decode('utf-8')"
      ],
      "execution_count": null,
      "outputs": []
    },
    {
      "cell_type": "code",
      "metadata": {
        "id": "lYNO7YtayExg"
      },
      "source": [
        "import email"
      ],
      "execution_count": null,
      "outputs": []
    },
    {
      "cell_type": "code",
      "metadata": {
        "id": "iRBmWk95yIGM"
      },
      "source": [
        "email_message = email.message_from_string(raw_email_string)"
      ],
      "execution_count": null,
      "outputs": []
    },
    {
      "cell_type": "code",
      "metadata": {
        "id": "p4OtRW7ZyYaE"
      },
      "source": [
        "for part in email_message.walk():\n",
        "  if part.get_content_type == 'text/plain':\n",
        "    body = part.get_payload(decode = True)\n",
        "    print(body)"
      ],
      "execution_count": null,
      "outputs": []
    }
  ]
}